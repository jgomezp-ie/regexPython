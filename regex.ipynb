{
  "nbformat": 4,
  "nbformat_minor": 0,
  "metadata": {
    "kernelspec": {
      "display_name": "Python 3",
      "language": "python",
      "name": "python3"
    },
    "language_info": {
      "codemirror_mode": {
        "name": "ipython",
        "version": 3
      },
      "file_extension": ".py",
      "mimetype": "text/x-python",
      "name": "python",
      "nbconvert_exporter": "python",
      "pygments_lexer": "ipython3",
      "version": "3.7.4"
    },
    "colab": {
      "name": "regex_blog_post.ipynb",
      "provenance": []
    }
  },
  "cells": [
    {
      "cell_type": "markdown",
      "metadata": {
        "id": "xKOTVJE23Yli"
      },
      "source": [
        "# Experimenting with regular expressions"
      ]
    },
    {
      "cell_type": "markdown",
      "metadata": {
        "id": "EH2FkuNK3Yln"
      },
      "source": [
        "### Importing modules"
      ]
    },
    {
      "cell_type": "code",
      "metadata": {
        "id": "aVCZifOU3Yln"
      },
      "source": [
        "import re"
      ],
      "execution_count": 1,
      "outputs": []
    },
    {
      "cell_type": "markdown",
      "metadata": {
        "id": "XCwmBIN03Ylo"
      },
      "source": [
        "### Defining sample strings "
      ]
    },
    {
      "cell_type": "code",
      "metadata": {
        "id": "-WRsflZT3Ylo"
      },
      "source": [
        "lowercase_alphabet = \"abcdefghijklmnopqrstuvwxyz\"\n",
        "uppercase_alphabet = lowercase_alphabet.upper()\n",
        "numbers = \"1234567890\"\n",
        "sentence = \"The Quick Brown Fox Jumps Over The Lazy Dog\"\n",
        "website = \"www.medium.com\"\n",
        "phone_numbers = \"\"\"123-456-7890\n",
        "                    987.654.321\n",
        "                    234-567-8901\n",
        "                    654.321.987\n",
        "                    345-678-9012\n",
        "                    321.654.978\n",
        "                    456-789-0123\n",
        "                \"\"\"\n",
        "special_characters = \"[\\^$.|?*+()\""
      ],
      "execution_count": 2,
      "outputs": []
    },
    {
      "cell_type": "markdown",
      "metadata": {
        "id": "5TutrPRb3Ylp"
      },
      "source": [
        "### Match explicit character(s)"
      ]
    },
    {
      "cell_type": "code",
      "metadata": {
        "id": "flaL9B4y3Ylp",
        "outputId": "8410c0f2-aa8a-4927-d9ec-6d5bd5833940",
        "colab": {
          "base_uri": "https://localhost:8080/"
        }
      },
      "source": [
        "re.findall(\"abc\", lowercase_alphabet)"
      ],
      "execution_count": 3,
      "outputs": [
        {
          "output_type": "execute_result",
          "data": {
            "text/plain": [
              "['abc']"
            ]
          },
          "metadata": {
            "tags": []
          },
          "execution_count": 3
        }
      ]
    },
    {
      "cell_type": "code",
      "metadata": {
        "id": "sPury5gd3Ylq",
        "outputId": "972cb0b2-ce8b-4f4c-8859-54f45ff276eb",
        "colab": {
          "base_uri": "https://localhost:8080/"
        }
      },
      "source": [
        "re.findall(\"ABC\", uppercase_alphabet)"
      ],
      "execution_count": 4,
      "outputs": [
        {
          "output_type": "execute_result",
          "data": {
            "text/plain": [
              "['ABC']"
            ]
          },
          "metadata": {
            "tags": []
          },
          "execution_count": 4
        }
      ]
    },
    {
      "cell_type": "code",
      "metadata": {
        "scrolled": true,
        "id": "Pzdqaxhl3Ylq",
        "outputId": "97f550d4-9d55-4b90-d78c-dd02dd740d8f",
        "colab": {
          "base_uri": "https://localhost:8080/"
        }
      },
      "source": [
        "re.findall(\"abc\", uppercase_alphabet)"
      ],
      "execution_count": 5,
      "outputs": [
        {
          "output_type": "execute_result",
          "data": {
            "text/plain": [
              "[]"
            ]
          },
          "metadata": {
            "tags": []
          },
          "execution_count": 5
        }
      ]
    },
    {
      "cell_type": "markdown",
      "metadata": {
        "id": "Mf5AAkOs3Ylq"
      },
      "source": [
        "### Match with special character(s)"
      ]
    },
    {
      "cell_type": "code",
      "metadata": {
        "id": "DOE3-SBO3Ylr",
        "outputId": "23050de4-a2f8-4395-b14f-72da64a27253",
        "colab": {
          "base_uri": "https://localhost:8080/"
        }
      },
      "source": [
        "re.findall(\"www\\.medium\\.com\", website)"
      ],
      "execution_count": 6,
      "outputs": [
        {
          "output_type": "execute_result",
          "data": {
            "text/plain": [
              "['www.medium.com']"
            ]
          },
          "metadata": {
            "tags": []
          },
          "execution_count": 6
        }
      ]
    },
    {
      "cell_type": "code",
      "metadata": {
        "id": "PRMZZaPq3Ylr",
        "outputId": "a01dfa4c-9d2c-413d-b8b8-5d643369a5ff",
        "colab": {
          "base_uri": "https://localhost:8080/"
        }
      },
      "source": [
        "re.findall(\"\\$\", special_characters)"
      ],
      "execution_count": 7,
      "outputs": [
        {
          "output_type": "execute_result",
          "data": {
            "text/plain": [
              "['$']"
            ]
          },
          "metadata": {
            "tags": []
          },
          "execution_count": 7
        }
      ]
    },
    {
      "cell_type": "code",
      "metadata": {
        "id": "pw7JlOtd3Ylr",
        "outputId": "7626ed6c-a446-44eb-ab8a-abe9b71e4ffa",
        "colab": {
          "base_uri": "https://localhost:8080/"
        }
      },
      "source": [
        "re.findall(\"\\|\", special_characters)"
      ],
      "execution_count": 8,
      "outputs": [
        {
          "output_type": "execute_result",
          "data": {
            "text/plain": [
              "['|']"
            ]
          },
          "metadata": {
            "tags": []
          },
          "execution_count": 8
        }
      ]
    },
    {
      "cell_type": "markdown",
      "metadata": {
        "id": "5lfNmVHS3Ylr"
      },
      "source": [
        "### Match by pattern"
      ]
    },
    {
      "cell_type": "code",
      "metadata": {
        "id": "6SsLQ6dP3Yls",
        "outputId": "9a959418-ce81-4dd9-c6fa-a70f3f1879fd",
        "colab": {
          "base_uri": "https://localhost:8080/"
        }
      },
      "source": [
        "re.findall(\"\\w{1,}\", sentence)"
      ],
      "execution_count": 13,
      "outputs": [
        {
          "output_type": "execute_result",
          "data": {
            "text/plain": [
              "['The', 'Quick', 'Brown', 'Fox', 'Jumps', 'Over', 'The', 'Lazy', 'Dog']"
            ]
          },
          "metadata": {
            "tags": []
          },
          "execution_count": 13
        }
      ]
    },
    {
      "cell_type": "code",
      "metadata": {
        "id": "anakmhco3Yls",
        "outputId": "8bb9ec38-303e-4470-fc2b-05b0adcc2c15",
        "colab": {
          "base_uri": "https://localhost:8080/"
        }
      },
      "source": [
        "re.findall(\"\\d{3}\\-\\d{3}\\-\\d{4}\", phone_numbers)"
      ],
      "execution_count": 14,
      "outputs": [
        {
          "output_type": "execute_result",
          "data": {
            "text/plain": [
              "['123-456-7890', '234-567-8901', '345-678-9012', '456-789-0123']"
            ]
          },
          "metadata": {
            "tags": []
          },
          "execution_count": 14
        }
      ]
    },
    {
      "cell_type": "markdown",
      "metadata": {
        "id": "wqWtvsvb8ow9"
      },
      "source": [
        "###Web Scraping (Data Collection)\n",
        "\n",
        "Data collection is a very common part of a data scientist’s work and it is relatively easy to find data on the web. It is possible to scrape websites like Wikipedia etc. to collect data, but data scraped from the web is usually messy and full of noise. Suppose the following is the html code you need to process:"
      ]
    },
    {
      "cell_type": "code",
      "metadata": {
        "id": "PYTUPe9P4X9J"
      },
      "source": [
        "html = \"\"\"<table class=\"vertical-navbox nowraplinks\" style=\"float:right;clear:right;width:22.0em;margin:0 0 1.0em 1.0em;background:#f9f9f9;border:1px solid #aaa;padding:0.2em;border-spacing:0.4em 0;text-align:center;line-height:1.4em;font-size:88%\"><tbody><tr><th style=\"padding:0.2em 0.4em 0.2em;font-size:145%;line-height:1.2em\"><a href=\"/wiki/Machine_learning\" title=\"Machine learning\">Machine learning</a> and<br /><a href=\"/wiki/Data_mining\" title=\"Data mining\">data mining</a></th></tr><tr><td style=\"padding:0.2em 0 0.4em;padding:0.25em 0.25em 0.75em;\"><a href=\"/wiki/File:Kernel_Machine.svg\" class=\"image\"><img alt=\"Kernel Machine.svg\" src=\"//upload.wikimedia.org/wikipedia/commons/thumb/f/fe/Kernel_Machine.svg/220px-Kernel_Machine.svg.png\" decoding=\"async\" width=\"220\" height=\"100\" srcset=\"//upload.wikimedia.org/wikipedia/commons/thumb/f/fe/Kernel_Machine.svg/330px-Kernel_Machine.svg.png 1.5x, //upload.wikimedia.org/wikipedia/commons/thumb/f/fe/Kernel_Machine.svg/440px-Kernel_Machine.svg.png 2x\" data-file-width=\"512\" data-file-height=\"233\" /></a></td></tr><tr><td style=\"padding:0 0.1em 0.4em\">\n",
        "<div class=\"NavFrame collapsed\" style=\"border:none;padding:0\"><div class=\"NavHead\" style=\"font-size:105%;background:transparent;text-align:left\">Problems</div><div class=\"NavContent\" style=\"font-size:105%;padding:0.2em 0 0.4em;text-align:center\"><div class=\"hlist\">\n",
        "<ul><li><a href=\"/wiki/Statistical_classification\" title=\"Statistical classification\">Classification</a></li>\n",
        "<li><a href=\"/wiki/Cluster_analysis\" title=\"Cluster analysis\">Clustering</a></li>\n",
        "<li><a href=\"/wiki/Regression_analysis\" title=\"Regression analysis\">Regression</a></li>\n",
        "<li><a href=\"/wiki/Anomaly_detection\" title=\"Anomaly detection\">Anomaly detection</a></li>\n",
        "<li><a href=\"/wiki/Automated_machine_learning\" title=\"Automated machine learning\">AutoML</a></li>\n",
        "<li><a href=\"/wiki/Association_rule_learning\" title=\"Association rule learning\">Association rules</a></li>\n",
        "<li><a href=\"/wiki/Reinforcement_learning\" title=\"Reinforcement learning\">Reinforcement learning</a></li>\n",
        "<li><a href=\"/wiki/Structured_prediction\" title=\"Structured prediction\">Structured prediction</a></li>\n",
        "<li><a href=\"/wiki/Feature_engineering\" title=\"Feature engineering\">Feature engineering</a></li>\n",
        "<li><a href=\"/wiki/Feature_learning\" title=\"Feature learning\">Feature learning</a></li>\n",
        "<li><a href=\"/wiki/Online_machine_learning\" title=\"Online machine learning\">Online learning</a></li>\n",
        "<li><a href=\"/wiki/Semi-supervised_learning\" title=\"Semi-supervised learning\">Semi-supervised learning</a></li>\n",
        "<li><a href=\"/wiki/Unsupervised_learning\" title=\"Unsupervised learning\">Unsupervised learning</a></li>\n",
        "<li><a href=\"/wiki/Learning_to_rank\" title=\"Learning to rank\">Learning to rank</a></li>\n",
        "<li><a href=\"/wiki/Grammar_induction\" title=\"Grammar induction\">Grammar induction</a></li></ul>\n",
        "</div></div></div></td>\n",
        "</tr><tr><td style=\"padding:0 0.1em 0.4em\">\n",
        "<div class=\"NavFrame collapsed\" style=\"border:none;padding:0\"><div class=\"NavHead\" style=\"font-size:105%;background:transparent;text-align:left\"><div style=\"padding:0.1em 0;line-height:1.2em;\"><a href=\"/wiki/Supervised_learning\" title=\"Supervised learning\">Supervised learning</a><br /><style data-mw-deduplicate=\"TemplateStyles:r886047488\">.mw-parser-output .nobold{font-weight:normal}</style><span class=\"nobold\"><span style=\"font-size:85%;\">(<b><a href=\"/wiki/Statistical_classification\" title=\"Statistical classification\">classification</a></b>&#160;&#8226;&#32;<b><a href=\"/wiki/Regression_analysis\" title=\"Regression analysis\">regression</a></b>)</span></span> </div></div><div class=\"NavContent\" style=\"font-size:105%;padding:0.2em 0 0.4em;text-align:center\"><div class=\"hlist\">\n",
        "<ul><li><a href=\"/wiki/Decision_tree_learning\" title=\"Decision tree learning\">Decision trees</a></li>\n",
        "<li><a href=\"/wiki/Ensemble_learning\" title=\"Ensemble learning\">Ensembles</a>\n",
        "<ul><li><a href=\"/wiki/Bootstrap_aggregating\" title=\"Bootstrap aggregating\">Bagging</a></li>\n",
        "<li><a href=\"/wiki/Boosting_(machine_learning)\" title=\"Boosting (machine learning)\">Boosting</a></li>\n",
        "<li><a href=\"/wiki/Random_forest\" title=\"Random forest\">Random forest</a></li></ul></li>\n",
        "<li><a href=\"/wiki/K-nearest_neighbors_algorithm\" title=\"K-nearest neighbors algorithm\"><i>k</i>-NN</a></li>\n",
        "<li><a href=\"/wiki/Linear_regression\" title=\"Linear regression\">Linear regression</a></li>\n",
        "<li><a href=\"/wiki/Naive_Bayes_classifier\" title=\"Naive Bayes classifier\">Naive Bayes</a></li>\n",
        "<li><a href=\"/wiki/Artificial_neural_network\" title=\"Artificial neural network\">Artificial neural networks</a></li>\n",
        "<li><a href=\"/wiki/Logistic_regression\" title=\"Logistic regression\">Logistic regression</a></li>\n",
        "<li><a href=\"/wiki/Perceptron\" title=\"Perceptron\">Perceptron</a></li>\n",
        "<li><a href=\"/wiki/Relevance_vector_machine\" title=\"Relevance vector machine\">Relevance vector machine (RVM)</a></li>\n",
        "<li><a href=\"/wiki/Support-vector_machine\" title=\"Support-vector machine\">Support vector machine (SVM)</a></li></ul>\n",
        "</div></div></div></td></table>\"\"\"\n"
      ],
      "execution_count": 15,
      "outputs": []
    },
    {
      "cell_type": "markdown",
      "metadata": {
        "id": "FpiS658k9OMH"
      },
      "source": [
        ""
      ]
    },
    {
      "cell_type": "markdown",
      "metadata": {
        "id": "eUPmNhNY-Awd"
      },
      "source": [
        "It is from a wikipedia page and has links to various other wikipedia pages. The first thing that we can do is to check the topics this page contains:"
      ]
    },
    {
      "cell_type": "code",
      "metadata": {
        "id": "4WJ46CQf7j-z",
        "outputId": "cfc96f9b-fd5f-4e32-cd7d-e575a5e09803",
        "colab": {
          "base_uri": "https://localhost:8080/"
        }
      },
      "source": [
        "re.findall(r\">([\\w\\s()]*?)</a>\", html)"
      ],
      "execution_count": 16,
      "outputs": [
        {
          "output_type": "execute_result",
          "data": {
            "text/plain": [
              "['Machine learning',\n",
              " 'data mining',\n",
              " '',\n",
              " 'Classification',\n",
              " 'Clustering',\n",
              " 'Regression',\n",
              " 'Anomaly detection',\n",
              " 'AutoML',\n",
              " 'Association rules',\n",
              " 'Reinforcement learning',\n",
              " 'Structured prediction',\n",
              " 'Feature engineering',\n",
              " 'Feature learning',\n",
              " 'Online learning',\n",
              " 'Unsupervised learning',\n",
              " 'Learning to rank',\n",
              " 'Grammar induction',\n",
              " 'Supervised learning',\n",
              " 'classification',\n",
              " 'regression',\n",
              " 'Decision trees',\n",
              " 'Ensembles',\n",
              " 'Bagging',\n",
              " 'Boosting',\n",
              " 'Random forest',\n",
              " 'Linear regression',\n",
              " 'Naive Bayes',\n",
              " 'Artificial neural networks',\n",
              " 'Logistic regression',\n",
              " 'Perceptron',\n",
              " 'Relevance vector machine (RVM)',\n",
              " 'Support vector machine (SVM)']"
            ]
          },
          "metadata": {
            "tags": []
          },
          "execution_count": 16
        }
      ]
    },
    {
      "cell_type": "markdown",
      "metadata": {
        "id": "rFuDd0qF-XZE"
      },
      "source": [
        "Now, let us extract the links to all those pages:"
      ]
    },
    {
      "cell_type": "code",
      "metadata": {
        "id": "i7V7tJBs7sfN",
        "outputId": "6bc25bfd-b283-4ffc-fbfd-a251d1f67945",
        "colab": {
          "base_uri": "https://localhost:8080/"
        }
      },
      "source": [
        "re.findall(r\"\\/wiki\\/[\\w-]*\", html)"
      ],
      "execution_count": 17,
      "outputs": [
        {
          "output_type": "execute_result",
          "data": {
            "text/plain": [
              "['/wiki/Machine_learning',\n",
              " '/wiki/Data_mining',\n",
              " '/wiki/File',\n",
              " '/wiki/Statistical_classification',\n",
              " '/wiki/Cluster_analysis',\n",
              " '/wiki/Regression_analysis',\n",
              " '/wiki/Anomaly_detection',\n",
              " '/wiki/Automated_machine_learning',\n",
              " '/wiki/Association_rule_learning',\n",
              " '/wiki/Reinforcement_learning',\n",
              " '/wiki/Structured_prediction',\n",
              " '/wiki/Feature_engineering',\n",
              " '/wiki/Feature_learning',\n",
              " '/wiki/Online_machine_learning',\n",
              " '/wiki/Semi-supervised_learning',\n",
              " '/wiki/Unsupervised_learning',\n",
              " '/wiki/Learning_to_rank',\n",
              " '/wiki/Grammar_induction',\n",
              " '/wiki/Supervised_learning',\n",
              " '/wiki/Statistical_classification',\n",
              " '/wiki/Regression_analysis',\n",
              " '/wiki/Decision_tree_learning',\n",
              " '/wiki/Ensemble_learning',\n",
              " '/wiki/Bootstrap_aggregating',\n",
              " '/wiki/Boosting_',\n",
              " '/wiki/Random_forest',\n",
              " '/wiki/K-nearest_neighbors_algorithm',\n",
              " '/wiki/Linear_regression',\n",
              " '/wiki/Naive_Bayes_classifier',\n",
              " '/wiki/Artificial_neural_network',\n",
              " '/wiki/Logistic_regression',\n",
              " '/wiki/Perceptron',\n",
              " '/wiki/Relevance_vector_machine',\n",
              " '/wiki/Support-vector_machine']"
            ]
          },
          "metadata": {
            "tags": []
          },
          "execution_count": 17
        }
      ]
    },
    {
      "cell_type": "code",
      "metadata": {
        "id": "Ij7u_2Nz76Xs"
      },
      "source": [
        ""
      ],
      "execution_count": null,
      "outputs": []
    }
  ]
}